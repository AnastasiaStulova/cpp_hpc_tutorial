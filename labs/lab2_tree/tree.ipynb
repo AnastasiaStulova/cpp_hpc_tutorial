{
 "cells": [
  {
   "cell_type": "markdown",
   "metadata": {},
   "source": [
    "Accelerating portable HPC Applications with Standard C++\n",
    "===\n",
    "\n",
    "# Topic 2: Parallel Tree Construction\n",
    "\n",
    "In this tutorial we will learn how to implement starvation-free concurrent algorithms by looking at parallel tree construction (see slides).\n",
    "\n",
    "A working implementation is provided in [starting_point.cpp].\n",
    "Please take 5 minutes to skim through it.\n",
    "\n",
    "Before starting we need to obtain a collection of books to run the example with:"
   ]
  },
  {
   "cell_type": "code",
   "execution_count": null,
   "metadata": {},
   "outputs": [],
   "source": [
    "!./books.sh"
   ]
  },
  {
   "cell_type": "markdown",
   "metadata": {},
   "source": [
    "---\n",
    "\n",
    "Now let's compile and run the starting point:"
   ]
  },
  {
   "cell_type": "code",
   "execution_count": null,
   "metadata": {},
   "outputs": [],
   "source": [
    "!g++ -std=c++20 -o tree starting_point.cpp -ltbb\n",
    "!./tree"
   ]
  },
  {
   "cell_type": "markdown",
   "metadata": {},
   "source": [
    "The input size should be 11451683 chars, and the sample books should have assembled 99743 nodes.\n",
    "\n",
    "This implementation reads all books into a single string of characters, and then processes it as 1 domain.\n",
    "\n",
    "## Exercise 0: process the input in parallel\n",
    "\n",
    "The goal of this exercise is to process the input in parallel using multiple domains."
   ]
  },
  {
   "cell_type": "markdown",
   "metadata": {},
   "source": [
    "### Solutions Exercise 0\n",
    "\n",
    "The solutions for each example are available in the `solutions/` sub-directory.\n",
    "\n",
    "The following compiles and runs the solutions for Exercise 0 using different compilers."
   ]
  },
  {
   "cell_type": "code",
   "execution_count": null,
   "metadata": {},
   "outputs": [],
   "source": [
    "!g++ -std=c++20 -Ofast -DNDEBUG -o tree solutions/exercise0.cpp\n",
    "!./tree"
   ]
  },
  {
   "cell_type": "code",
   "execution_count": null,
   "metadata": {},
   "outputs": [],
   "source": [
    "# A GPU version using cuda::std::atomic is available:\n",
    "!nvc++ -std=c++17 -stdpar=gpu -gpu=cc80 -fast -DNDEBUG -o tree solutions/exercise0_gpu.cpp\n",
    "!./tree"
   ]
  }
 ],
 "metadata": {
  "kernelspec": {
   "display_name": "Python 3 (ipykernel)",
   "language": "python",
   "name": "python3"
  },
  "language_info": {
   "codemirror_mode": {
    "name": "ipython",
    "version": 3
   },
   "file_extension": ".py",
   "mimetype": "text/x-python",
   "name": "python",
   "nbconvert_exporter": "python",
   "pygments_lexer": "ipython3",
   "version": "3.8.10"
  }
 },
 "nbformat": 4,
 "nbformat_minor": 4
}
