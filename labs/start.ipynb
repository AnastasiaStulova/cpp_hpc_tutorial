{
 "cells": [
  {
   "cell_type": "markdown",
   "metadata": {},
   "source": [
    "Accelerating portable HPC Applications with Standard C++\n",
    "===\n",
    "\n",
    "## Learning Objectives\n",
    "\n",
    "This half-day hands-on tutorial teaches how to accelerate portable HPC applications with CPUs and GPUs using the parallelism and concurrency features of the C++17 and C++20 standards. Attendees will accelerate a canonical PDE solver for the unsteady heat equation from a single threaded implementation to a multi-CPU/multi-GPU implementation that overlaps computation with communication. Along the way, they will learn about C++ concurrency features like threads, atomics, barriers, and parallel algorithms. The tutorial teaches how to integrate these features into hybrid HPC applications using MPI. Finally, we conclude with an outlook of C++2x features that simplify overlapping communication and computation, and a summary of our experience applying ISO C++ as the programming model to accelerate large real-world HPC applications.\n",
    "\n",
    "### Outline\n",
    "\n",
    "This tutorial is split into three parts.\n",
    "\n",
    "- [Topic 0: SAXPY]: Fundamentals of C++ parallel algorithms (beginner).\n",
    "- [Topic 1: 2D Heat Equation]: Mini-application: integrating parallel algorithms with threads, atomics, and MPI (intermediate).\n",
    "- [Topic 2: Parallel Tree Construction]: Mini-application: starvation-free concurrent algorithms (advanced).\n",
    "\n",
    "[Topic 0: SAXPY]: topic0_saxpy/topic0_saxpy.ipynb\n",
    "[Topic 1: 2D Heat Equation]: topic1_heat/topic1_heat.ipynb\n",
    "[Topic 2: Parallel Tree Construction]: topic2_tree/topic2_tree.ipynb\n",
    "\n",
    "## Audience, Content Level, Prerequisites, and Duration\n",
    "\n",
    "This half-day tutorial is relevant for those interested in parallel programming models, the C++ programming language, performance portability and heterogeneous systems. \n",
    "\n",
    "The content is structured into three topics, and progressesn from beginner to intermediate to advanced.\n",
    "\n",
    "Beginner-level experience with C++11 and MPI is required.\n",
    "\n",
    "## Getting started\n",
    "\n",
    "Let's start by testing the CUDA Driver and GPU you are running the code on in this lab:"
   ]
  },
  {
   "cell_type": "code",
   "execution_count": 3,
   "metadata": {},
   "outputs": [
    {
     "name": "stdout",
     "output_type": "stream",
     "text": [
      "Mon Apr 18 13:56:52 2022       \n",
      "+-----------------------------------------------------------------------------+\n",
      "| NVIDIA-SMI 515.12       Driver Version: 515.12       CUDA Version: 11.7     |\n",
      "|-------------------------------+----------------------+----------------------+\n",
      "| GPU  Name        Persistence-M| Bus-Id        Disp.A | Volatile Uncorr. ECC |\n",
      "| Fan  Temp  Perf  Pwr:Usage/Cap|         Memory-Usage | GPU-Util  Compute M. |\n",
      "|                               |                      |               MIG M. |\n",
      "|===============================+======================+======================|\n",
      "|   0  NVIDIA A100 80G...  On   | 00000000:41:00.0 Off |                    0 |\n",
      "| N/A   31C    P0    43W / 300W |      0MiB / 81920MiB |      0%      Default |\n",
      "|                               |                      |             Disabled |\n",
      "+-------------------------------+----------------------+----------------------+\n",
      "                                                                               \n",
      "+-----------------------------------------------------------------------------+\n",
      "| Processes:                                                                  |\n",
      "|  GPU   GI   CI        PID   Type   Process name                  GPU Memory |\n",
      "|        ID   ID                                                   Usage      |\n",
      "|=============================================================================|\n",
      "|  No running processes found                                                 |\n",
      "+-----------------------------------------------------------------------------+\n"
     ]
    }
   ],
   "source": [
    "!nvidia-smi"
   ]
  },
  {
   "cell_type": "markdown",
   "metadata": {},
   "source": [
    "and the CPUs on the system:"
   ]
  },
  {
   "cell_type": "code",
   "execution_count": 1,
   "metadata": {},
   "outputs": [
    {
     "name": "stdout",
     "output_type": "stream",
     "text": [
      "Architecture:                    x86_64\n",
      "CPU op-mode(s):                  32-bit, 64-bit\n",
      "Byte Order:                      Little Endian\n",
      "Address sizes:                   43 bits physical, 48 bits virtual\n",
      "CPU(s):                          16\n",
      "On-line CPU(s) list:             0-15\n",
      "Thread(s) per core:              2\n",
      "Core(s) per socket:              8\n",
      "Socket(s):                       1\n",
      "NUMA node(s):                    1\n",
      "Vendor ID:                       AuthenticAMD\n",
      "CPU family:                      23\n",
      "Model:                           49\n",
      "Model name:                      AMD EPYC 7232P 8-Core Processor\n",
      "Stepping:                        0\n",
      "Frequency boost:                 enabled\n",
      "CPU MHz:                         1419.549\n",
      "CPU max MHz:                     3100.0000\n",
      "CPU min MHz:                     1500.0000\n",
      "BogoMIPS:                        6200.36\n",
      "Virtualization:                  AMD-V\n",
      "L1d cache:                       256 KiB\n",
      "L1i cache:                       256 KiB\n",
      "L2 cache:                        4 MiB\n",
      "L3 cache:                        32 MiB\n",
      "NUMA node0 CPU(s):               0-15\n",
      "Vulnerability Itlb multihit:     Not affected\n",
      "Vulnerability L1tf:              Not affected\n",
      "Vulnerability Mds:               Not affected\n",
      "Vulnerability Meltdown:          Not affected\n",
      "Vulnerability Spec store bypass: Mitigation; Speculative Store Bypass disabled v\n",
      "                                 ia prctl and seccomp\n",
      "Vulnerability Spectre v1:        Mitigation; usercopy/swapgs barriers and __user\n",
      "                                  pointer sanitization\n",
      "Vulnerability Spectre v2:        Mitigation; Full AMD retpoline, IBPB conditiona\n",
      "                                 l, IBRS_FW, STIBP conditional, RSB filling\n",
      "Vulnerability Srbds:             Not affected\n",
      "Vulnerability Tsx async abort:   Not affected\n",
      "Flags:                           fpu vme de pse tsc msr pae mce cx8 apic sep mtr\n",
      "                                 r pge mca cmov pat pse36 clflush mmx fxsr sse s\n",
      "                                 se2 ht syscall nx mmxext fxsr_opt pdpe1gb rdtsc\n",
      "                                 p lm constant_tsc rep_good nopl xtopology nonst\n",
      "                                 op_tsc cpuid extd_apicid aperfmperf pni pclmulq\n",
      "                                 dq monitor ssse3 fma cx16 sse4_1 sse4_2 movbe p\n",
      "                                 opcnt aes xsave avx f16c rdrand lahf_lm cmp_leg\n",
      "                                 acy svm extapic cr8_legacy abm sse4a misalignss\n",
      "                                 e 3dnowprefetch osvw ibs skinit wdt tce topoext\n",
      "                                  perfctr_core perfctr_nb bpext perfctr_llc mwai\n",
      "                                 tx cpb cat_l3 cdp_l3 hw_pstate sme ssbd ibrs ib\n",
      "                                 pb stibp vmmcall fsgsbase bmi1 avx2 smep bmi2 c\n",
      "                                 qm rdt_a rdseed adx smap clflushopt clwb sha_ni\n",
      "                                  xsaveopt xsavec xgetbv1 xsaves cqm_llc cqm_occ\n",
      "                                 up_llc cqm_mbm_total cqm_mbm_local clzero irper\n",
      "                                 f xsaveerptr arat npt lbrv svm_lock nrip_save t\n",
      "                                 sc_scale vmcb_clean flushbyasid decodeassists p\n",
      "                                 ausefilter pfthreshold avic v_vmsave_vmload vgi\n",
      "                                 f umip rdpid overflow_recov succor smca\n"
     ]
    }
   ],
   "source": [
    "!lscpu"
   ]
  },
  {
   "cell_type": "markdown",
   "metadata": {},
   "source": [
    "--- \n",
    "\n",
    "## Licensing \n",
    "\n",
    "This material is provided under the MIT License."
   ]
  }
 ],
 "metadata": {
  "kernelspec": {
   "display_name": "Python 3 (ipykernel)",
   "language": "python",
   "name": "python3"
  },
  "language_info": {
   "codemirror_mode": {
    "name": "ipython",
    "version": 3
   },
   "file_extension": ".py",
   "mimetype": "text/x-python",
   "name": "python",
   "nbconvert_exporter": "python",
   "pygments_lexer": "ipython3",
   "version": "3.8.10"
  }
 },
 "nbformat": 4,
 "nbformat_minor": 4
}
